{
 "cells": [
  {
   "cell_type": "code",
   "execution_count": 2,
   "metadata": {},
   "outputs": [],
   "source": [
    "import pandas as pd\n",
    "import json\n",
    "from pandas.io.json import json_normalize"
   ]
  },
  {
   "cell_type": "markdown",
   "metadata": {},
   "source": [
    "## Dataset Business"
   ]
  },
  {
   "cell_type": "code",
   "execution_count": 3,
   "metadata": {},
   "outputs": [],
   "source": [
    "data = []\n",
    "for line in open(\"Yelp Dataset/yelp_academic_dataset_business.json\", \"r\", encoding=\"utf-8\"):\n",
    "    data.append(json.loads(line))"
   ]
  },
  {
   "cell_type": "code",
   "execution_count": 4,
   "metadata": {},
   "outputs": [],
   "source": [
    "df_business = pd.json_normalize(data)"
   ]
  },
  {
   "cell_type": "code",
   "execution_count": 5,
   "metadata": {
    "scrolled": true
   },
   "outputs": [
    {
     "name": "stdout",
     "output_type": "stream",
     "text": [
      "<class 'pandas.core.frame.DataFrame'>\n",
      "RangeIndex: 160585 entries, 0 to 160584\n",
      "Data columns (total 60 columns):\n",
      " #   Column                                 Non-Null Count   Dtype  \n",
      "---  ------                                 --------------   -----  \n",
      " 0   business_id                            160585 non-null  object \n",
      " 1   name                                   160585 non-null  object \n",
      " 2   address                                160585 non-null  object \n",
      " 3   city                                   160585 non-null  object \n",
      " 4   state                                  160585 non-null  object \n",
      " 5   postal_code                            160585 non-null  object \n",
      " 6   latitude                               160585 non-null  float64\n",
      " 7   longitude                              160585 non-null  float64\n",
      " 8   stars                                  160585 non-null  float64\n",
      " 9   review_count                           160585 non-null  int64  \n",
      " 10  is_open                                160585 non-null  int64  \n",
      " 11  categories                             160470 non-null  object \n",
      " 12  attributes.RestaurantsTableService     19400 non-null   object \n",
      " 13  attributes.WiFi                        59017 non-null   object \n",
      " 14  attributes.BikeParking                 76480 non-null   object \n",
      " 15  attributes.BusinessParking             98163 non-null   object \n",
      " 16  attributes.BusinessAcceptsCreditCards  120177 non-null  object \n",
      " 17  attributes.RestaurantsReservations     45607 non-null   object \n",
      " 18  attributes.WheelchairAccessible        29370 non-null   object \n",
      " 19  attributes.Caters                      40140 non-null   object \n",
      " 20  attributes.OutdoorSeating              50128 non-null   object \n",
      " 21  attributes.RestaurantsGoodForGroups    45381 non-null   object \n",
      " 22  attributes.HappyHour                   15237 non-null   object \n",
      " 23  attributes.BusinessAcceptsBitcoin      17593 non-null   object \n",
      " 24  attributes.RestaurantsPriceRange2      92442 non-null   object \n",
      " 25  attributes.Ambience                    43882 non-null   object \n",
      " 26  attributes.HasTV                       44495 non-null   object \n",
      " 27  attributes.Alcohol                     44443 non-null   object \n",
      " 28  attributes.GoodForMeal                 29276 non-null   object \n",
      " 29  attributes.DogsAllowed                 18308 non-null   object \n",
      " 30  attributes.RestaurantsTakeOut          58412 non-null   object \n",
      " 31  attributes.NoiseLevel                  39193 non-null   object \n",
      " 32  attributes.RestaurantsAttire           40723 non-null   object \n",
      " 33  attributes.RestaurantsDelivery         54485 non-null   object \n",
      " 34  hours.Monday                           121672 non-null  object \n",
      " 35  hours.Tuesday                          126944 non-null  object \n",
      " 36  hours.Wednesday                        129469 non-null  object \n",
      " 37  hours.Thursday                         130753 non-null  object \n",
      " 38  hours.Friday                           130177 non-null  object \n",
      " 39  hours.Saturday                         113021 non-null  object \n",
      " 40  hours.Sunday                           83780 non-null   object \n",
      " 41  attributes.GoodForKids                 56850 non-null   object \n",
      " 42  attributes.ByAppointmentOnly           49748 non-null   object \n",
      " 43  hours                                  0 non-null       float64\n",
      " 44  attributes.AcceptsInsurance            7168 non-null    object \n",
      " 45  attributes                             0 non-null       float64\n",
      " 46  attributes.HairSpecializesIn           1193 non-null    object \n",
      " 47  attributes.GoodForDancing              4758 non-null    object \n",
      " 48  attributes.BestNights                  5526 non-null    object \n",
      " 49  attributes.Music                       7198 non-null    object \n",
      " 50  attributes.BYOB                        3519 non-null    object \n",
      " 51  attributes.CoatCheck                   5188 non-null    object \n",
      " 52  attributes.Smoking                     4419 non-null    object \n",
      " 53  attributes.DriveThru                   6038 non-null    object \n",
      " 54  attributes.BYOBCorkage                 3667 non-null    object \n",
      " 55  attributes.Corkage                     3973 non-null    object \n",
      " 56  attributes.RestaurantsCounterService   40 non-null      object \n",
      " 57  attributes.AgesAllowed                 97 non-null      object \n",
      " 58  attributes.DietaryRestrictions         68 non-null      object \n",
      " 59  attributes.Open24Hours                 42 non-null      object \n",
      "dtypes: float64(5), int64(2), object(53)\n",
      "memory usage: 73.5+ MB\n"
     ]
    }
   ],
   "source": [
    "df_business.info()"
   ]
  },
  {
   "cell_type": "code",
   "execution_count": null,
   "metadata": {},
   "outputs": [],
   "source": [
    "df_business.to_csv(\"Yelp Dataset/CSV/yelp_academic_dataset_business.csv\", index=\"False\")"
   ]
  },
  {
   "cell_type": "code",
   "execution_count": null,
   "metadata": {},
   "outputs": [],
   "source": []
  },
  {
   "cell_type": "markdown",
   "metadata": {},
   "source": [
    "## Dataset Checkin"
   ]
  },
  {
   "cell_type": "code",
   "execution_count": 6,
   "metadata": {},
   "outputs": [],
   "source": [
    "data = []\n",
    "for line in open(\"Yelp Dataset/yelp_academic_dataset_checkin.json\", \"r\", encoding=\"utf-8\"):\n",
    "    data.append(json.loads(line))"
   ]
  },
  {
   "cell_type": "code",
   "execution_count": 7,
   "metadata": {},
   "outputs": [],
   "source": [
    "df_checkin = pd.json_normalize(data)"
   ]
  },
  {
   "cell_type": "code",
   "execution_count": 8,
   "metadata": {},
   "outputs": [
    {
     "name": "stdout",
     "output_type": "stream",
     "text": [
      "<class 'pandas.core.frame.DataFrame'>\n",
      "RangeIndex: 138876 entries, 0 to 138875\n",
      "Data columns (total 2 columns):\n",
      " #   Column       Non-Null Count   Dtype \n",
      "---  ------       --------------   ----- \n",
      " 0   business_id  138876 non-null  object\n",
      " 1   date         138876 non-null  object\n",
      "dtypes: object(2)\n",
      "memory usage: 2.1+ MB\n"
     ]
    }
   ],
   "source": [
    "df_checkin.info()"
   ]
  },
  {
   "cell_type": "code",
   "execution_count": null,
   "metadata": {},
   "outputs": [],
   "source": [
    "df_checkin.to_csv(\"Yelp Dataset/CSV/yelp_academic_dataset_checkin.csv\", index=\"False\")"
   ]
  },
  {
   "cell_type": "code",
   "execution_count": null,
   "metadata": {},
   "outputs": [],
   "source": []
  },
  {
   "cell_type": "markdown",
   "metadata": {},
   "source": [
    "## Dataset Tip"
   ]
  },
  {
   "cell_type": "code",
   "execution_count": 20,
   "metadata": {},
   "outputs": [],
   "source": [
    "data = []\n",
    "for line in open(\"Yelp Dataset/yelp_academic_dataset_tip.json\", \"r\", encoding=\"utf-8\"):\n",
    "    data.append(json.loads(line))"
   ]
  },
  {
   "cell_type": "code",
   "execution_count": 21,
   "metadata": {},
   "outputs": [],
   "source": [
    "df_tip = pd.json_normalize(data)"
   ]
  },
  {
   "cell_type": "code",
   "execution_count": 22,
   "metadata": {},
   "outputs": [
    {
     "name": "stdout",
     "output_type": "stream",
     "text": [
      "<class 'pandas.core.frame.DataFrame'>\n",
      "RangeIndex: 1162119 entries, 0 to 1162118\n",
      "Data columns (total 5 columns):\n",
      " #   Column            Non-Null Count    Dtype \n",
      "---  ------            --------------    ----- \n",
      " 0   user_id           1162119 non-null  object\n",
      " 1   business_id       1162119 non-null  object\n",
      " 2   text              1162119 non-null  object\n",
      " 3   date              1162119 non-null  object\n",
      " 4   compliment_count  1162119 non-null  int64 \n",
      "dtypes: int64(1), object(4)\n",
      "memory usage: 44.3+ MB\n"
     ]
    }
   ],
   "source": [
    "df_tip.info()"
   ]
  },
  {
   "cell_type": "code",
   "execution_count": null,
   "metadata": {},
   "outputs": [],
   "source": [
    "df_tip.to_csv(\"Yelp Dataset/CSV/yelp_academic_dataset_tip.csv\", index=\"False\")"
   ]
  },
  {
   "cell_type": "code",
   "execution_count": null,
   "metadata": {},
   "outputs": [],
   "source": []
  },
  {
   "cell_type": "markdown",
   "metadata": {},
   "source": [
    "## Dataset User"
   ]
  },
  {
   "cell_type": "code",
   "execution_count": 24,
   "metadata": {},
   "outputs": [],
   "source": [
    "data = []\n",
    "for line in open(\"Yelp Dataset/yelp_academic_dataset_user.json\", \"r\", encoding=\"utf-8\"):\n",
    "    data.append(json.loads(line))"
   ]
  },
  {
   "cell_type": "code",
   "execution_count": 25,
   "metadata": {},
   "outputs": [],
   "source": [
    "df_user = pd.json_normalize(data)"
   ]
  },
  {
   "cell_type": "code",
   "execution_count": 26,
   "metadata": {
    "scrolled": true
   },
   "outputs": [
    {
     "name": "stdout",
     "output_type": "stream",
     "text": [
      "<class 'pandas.core.frame.DataFrame'>\n",
      "RangeIndex: 2189457 entries, 0 to 2189456\n",
      "Data columns (total 22 columns):\n",
      " #   Column              Dtype  \n",
      "---  ------              -----  \n",
      " 0   user_id             object \n",
      " 1   name                object \n",
      " 2   review_count        int64  \n",
      " 3   yelping_since       object \n",
      " 4   useful              int64  \n",
      " 5   funny               int64  \n",
      " 6   cool                int64  \n",
      " 7   elite               object \n",
      " 8   friends             object \n",
      " 9   fans                int64  \n",
      " 10  average_stars       float64\n",
      " 11  compliment_hot      int64  \n",
      " 12  compliment_more     int64  \n",
      " 13  compliment_profile  int64  \n",
      " 14  compliment_cute     int64  \n",
      " 15  compliment_list     int64  \n",
      " 16  compliment_note     int64  \n",
      " 17  compliment_plain    int64  \n",
      " 18  compliment_cool     int64  \n",
      " 19  compliment_funny    int64  \n",
      " 20  compliment_writer   int64  \n",
      " 21  compliment_photos   int64  \n",
      "dtypes: float64(1), int64(16), object(5)\n",
      "memory usage: 367.5+ MB\n"
     ]
    }
   ],
   "source": [
    "df_user.info()"
   ]
  },
  {
   "cell_type": "code",
   "execution_count": null,
   "metadata": {},
   "outputs": [],
   "source": [
    "df_user.to_csv(\"Yelp Dataset/CSV/yelp_academic_dataset_user.csv\", index=\"False\")"
   ]
  },
  {
   "cell_type": "code",
   "execution_count": null,
   "metadata": {},
   "outputs": [],
   "source": []
  },
  {
   "cell_type": "markdown",
   "metadata": {},
   "source": [
    "## Dataset Review"
   ]
  },
  {
   "cell_type": "code",
   "execution_count": null,
   "metadata": {},
   "outputs": [],
   "source": [
    "data = []\n",
    "for line in open(\"Yelp Dataset/yelp_academic_dataset_review.json\", \"r\", encoding=\"utf-8\"):\n",
    "    data.append(json.loads(line))"
   ]
  },
  {
   "cell_type": "code",
   "execution_count": null,
   "metadata": {},
   "outputs": [],
   "source": [
    "df_user = pd.json_normalize(data)"
   ]
  },
  {
   "cell_type": "code",
   "execution_count": null,
   "metadata": {},
   "outputs": [],
   "source": [
    "df_user.info()"
   ]
  },
  {
   "cell_type": "code",
   "execution_count": null,
   "metadata": {},
   "outputs": [],
   "source": [
    "df_user.to_csv(\"Yelp Dataset/CSV/yelp_academic_dataset_review.csv\", index=\"False\")"
   ]
  }
 ],
 "metadata": {
  "kernelspec": {
   "display_name": "Python 3",
   "language": "python",
   "name": "python3"
  },
  "language_info": {
   "codemirror_mode": {
    "name": "ipython",
    "version": 3
   },
   "file_extension": ".py",
   "mimetype": "text/x-python",
   "name": "python",
   "nbconvert_exporter": "python",
   "pygments_lexer": "ipython3",
   "version": "3.8.5"
  }
 },
 "nbformat": 4,
 "nbformat_minor": 4
}
